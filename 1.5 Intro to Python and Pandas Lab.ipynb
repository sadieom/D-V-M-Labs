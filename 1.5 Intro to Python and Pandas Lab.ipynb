{
 "cells": [
  {
   "cell_type": "markdown",
   "id": "03ba50ef-04a5-4edc-9ef8-747de437c608",
   "metadata": {
    "panel-layout": {
     "height": 210.11459350585938,
     "visible": true,
     "width": 100
    }
   },
   "source": [
    "# Lab Instructions\n",
    "\n",
    "Find a dataset that interests you. I'd recommend starting on [Kaggle](https://www.kaggle.com/). Read through all of the material about the dataset and download a .CSV file.\n",
    "\n",
    "1. Write a short summary of the data.  Where did it come from?  How was it collected?  What are the features in the data?  Why is this dataset interesting to you?  \n",
    "\n",
    "2. Identify 5 interesting questions about your data that you can answer using Pandas methods.  \n",
    "\n",
    "3. Answer those questions!  You may use any method you want (including LLMs) to help you write your code; however, you should use Pandas to find the answers.  LLMs will not always write code in this way without specific instruction.  \n",
    "\n",
    "4. Write the answer to your question in a text box underneath the code you used to calculate the answer.\n",
    "\n"
   ]
  },
  {
   "cell_type": "markdown",
   "id": "74da66be-dbfc-4140-93c4-b600e98f6df2",
   "metadata": {
    "panel-layout": {
     "height": 195.90625,
     "visible": true,
     "width": 100
    }
   },
   "source": [
    "# --- Part 1: DATA SUMMARY ---\n",
    "\n",
    "### The dataset I chose contains comprehensive information on 800 Pokemon from the 1st through 6th generation. It contains features such as Name,\n",
    "### Type 1 & 2 (primary and secondary elements), Total (sum of all base stats), HP, Attack, Defense, Sp. Attack, Sp. Defense, Speed (individual stats), \n",
    "### Generation, Legendary (a boolean value indicating if the pokemon is legendary).\n",
    "\n",
    "### I found this dataset interesting because it provides a quatitative way to explore the game's design, \n",
    "### such as how power levels have changed over time and which elemental types are most common or powerful."
   ]
  },
  {
   "cell_type": "code",
   "execution_count": null,
   "id": "f7cabf46-871e-4972-b3b7-b70ef1e25dd9",
   "metadata": {},
   "outputs": [],
   "source": [
    "# --- Part 2: 5 Interesting Questions ---\n",
    "\n",
    "### 1.) What is the average \"Total\" base stat for Legendary vs. Non-Legendary Pokemon?\n",
    "### 2.) Which Pokemon has the highest Speed stat?\n",
    "### 3.) How many Pokemon belong to each primary type (Type 1)?\n",
    "### 4.) Which Pokemon generation intorduced the most new Pokemon? \n",
    "### 5.) What are the 5 most common secondary types (Type 2)? "
   ]
  },
  {
   "cell_type": "code",
   "execution_count": null,
   "id": "47341d61-071f-45a3-a0ab-0f1cd769ffd4",
   "metadata": {},
   "outputs": [],
   "source": [
    "# --- Part 3 & 4: Answering the Questions"
   ]
  },
  {
   "cell_type": "code",
   "execution_count": 2,
   "id": "fedd345c-8a37-44a5-9f00-ac49c36bab6c",
   "metadata": {
    "panel-layout": {
     "height": 0,
     "visible": true,
     "width": 100
    }
   },
   "outputs": [
    {
     "name": "stdout",
     "output_type": "stream",
     "text": [
      "Legendary\n",
      "False    417.213605\n",
      "True     637.384615\n",
      "Name: Total, dtype: float64\n"
     ]
    }
   ],
   "source": [
    "## 1.) What is the average \"Total\" base stat for Legendary vs. Non-Legendary Pokemon?\n",
    "\n",
    "import pandas as pd\n",
    "\n",
    "df = pd.read_csv('Pokemon.csv')\n",
    "\n",
    "average_total_stats = df.groupby('Legendary')['Total'].mean()\n",
    "\n",
    "print (average_total_stats)"
   ]
  },
  {
   "cell_type": "code",
   "execution_count": null,
   "id": "05659222-124f-4324-aa3e-b66824fde12b",
   "metadata": {},
   "outputs": [],
   "source": [
    "## Answer: \n",
    "### On average, Legendary Pokemon have an average 'Total' base stat of 637,\n",
    "### while Non-Legendary Pokemon have an average 'Total' of about 417."
   ]
  },
  {
   "cell_type": "code",
   "execution_count": 5,
   "id": "31d69ae3-187c-4a35-9a34-17e2473ec99f",
   "metadata": {
    "panel-layout": {
     "height": 0,
     "visible": true,
     "width": 100
    }
   },
   "outputs": [
    {
     "name": "stdout",
     "output_type": "stream",
     "text": [
      "Name     DeoxysSpeed Forme\n",
      "Speed                  180\n",
      "Name: 431, dtype: object\n"
     ]
    }
   ],
   "source": [
    "## 2.) Which Pokemon has the highest Speed stat?\n",
    "\n",
    "fastest_pokemon = df.loc[df['Speed'].idxmax()]\n",
    "\n",
    "print(fastest_pokemon[['Name', 'Speed']])"
   ]
  },
  {
   "cell_type": "code",
   "execution_count": null,
   "id": "613f5f9b-b550-408e-8bcb-f25b4493886c",
   "metadata": {},
   "outputs": [],
   "source": [
    "## Answer: \n",
    "### The Pokemon with the highest Speed stat is DeoxysSpeed Forme, with a speed of 180"
   ]
  },
  {
   "cell_type": "code",
   "execution_count": 6,
   "id": "d73746cc-6bb2-4189-a59a-180078e50aaa",
   "metadata": {
    "panel-layout": {
     "height": 0,
     "visible": true,
     "width": 100
    }
   },
   "outputs": [
    {
     "name": "stdout",
     "output_type": "stream",
     "text": [
      "Type 1\n",
      "Water       112\n",
      "Normal       98\n",
      "Grass        70\n",
      "Bug          69\n",
      "Psychic      57\n",
      "Fire         52\n",
      "Rock         44\n",
      "Electric     44\n",
      "Ground       32\n",
      "Ghost        32\n",
      "Dragon       32\n",
      "Dark         31\n",
      "Poison       28\n",
      "Fighting     27\n",
      "Steel        27\n",
      "Ice          24\n",
      "Fairy        17\n",
      "Flying        4\n",
      "Name: count, dtype: int64\n"
     ]
    }
   ],
   "source": [
    "## 3.) How many Pokemon belong to each primary type (Type 1)?\n",
    "\n",
    "type_counts = df['Type 1'].value_counts()\n",
    "\n",
    "print(type_counts)"
   ]
  },
  {
   "cell_type": "code",
   "execution_count": null,
   "id": "759ca214-7500-4be4-8a36-0700e54413c4",
   "metadata": {},
   "outputs": [],
   "source": [
    "## Answer: \n",
    "### The most common primary types are Water (112 Pokemon) and Normal (98 Pokemon). The least common primary type is Flying with only 4 Pokemon."
   ]
  },
  {
   "cell_type": "code",
   "execution_count": 7,
   "id": "65c03f2a-e791-477f-9ca0-cfc6d8d214c1",
   "metadata": {
    "panel-layout": {
     "height": 0,
     "visible": true,
     "width": 100
    }
   },
   "outputs": [
    {
     "name": "stdout",
     "output_type": "stream",
     "text": [
      "Generation\n",
      "1    166\n",
      "5    165\n",
      "3    160\n",
      "4    121\n",
      "2    106\n",
      "6     82\n",
      "Name: count, dtype: int64\n"
     ]
    }
   ],
   "source": [
    "## 4.) Which Pokemon generation intorduced the most new Pokemon? \n",
    "\n",
    "generation_counts = df['Generation'].value_counts()\n",
    "\n",
    "print(generation_counts)"
   ]
  },
  {
   "cell_type": "code",
   "execution_count": null,
   "id": "59907ee9-20a2-4ec6-9edc-89fdc826efa4",
   "metadata": {},
   "outputs": [],
   "source": [
    "## Answer: \n",
    "### Gen 1 introduced the most pokemon with 166 entries, followed very closely by Gen 5 with 165 entries."
   ]
  },
  {
   "cell_type": "code",
   "execution_count": 8,
   "id": "acc9e487-a171-42b1-89f8-d287b2813a03",
   "metadata": {
    "panel-layout": {
     "height": 0,
     "visible": true,
     "width": 100
    }
   },
   "outputs": [
    {
     "name": "stdout",
     "output_type": "stream",
     "text": [
      "Type 2\n",
      "Flying      97\n",
      "Ground      35\n",
      "Poison      34\n",
      "Psychic     33\n",
      "Fighting    26\n",
      "Name: count, dtype: int64\n"
     ]
    }
   ],
   "source": [
    "## 5.) What are the 5 most common secondary types (Type 2)?\n",
    "\n",
    "top_5_secondary_types = df['Type 2'].value_counts().head(5)\n",
    "\n",
    "print(top_5_secondary_types)"
   ]
  },
  {
   "cell_type": "code",
   "execution_count": null,
   "id": "2282d914-03ad-4d82-845a-9394e3077f31",
   "metadata": {},
   "outputs": [],
   "source": [
    "## Answer: \n",
    "### The five most common secondary types are Flying (97), Ground (35), Poison (34), Psychic (33), and Fighting (26)."
   ]
  }
 ],
 "metadata": {
  "kernelspec": {
   "display_name": "Python [conda env:base] *",
   "language": "python",
   "name": "conda-base-py"
  },
  "language_info": {
   "codemirror_mode": {
    "name": "ipython",
    "version": 3
   },
   "file_extension": ".py",
   "mimetype": "text/x-python",
   "name": "python",
   "nbconvert_exporter": "python",
   "pygments_lexer": "ipython3",
   "version": "3.13.5"
  },
  "panel-cell-order": [
   "03ba50ef-04a5-4edc-9ef8-747de437c608",
   "74da66be-dbfc-4140-93c4-b600e98f6df2",
   "fedd345c-8a37-44a5-9f00-ac49c36bab6c",
   "31d69ae3-187c-4a35-9a34-17e2473ec99f",
   "d73746cc-6bb2-4189-a59a-180078e50aaa",
   "65c03f2a-e791-477f-9ca0-cfc6d8d214c1",
   "acc9e487-a171-42b1-89f8-d287b2813a03"
  ]
 },
 "nbformat": 4,
 "nbformat_minor": 5
}
